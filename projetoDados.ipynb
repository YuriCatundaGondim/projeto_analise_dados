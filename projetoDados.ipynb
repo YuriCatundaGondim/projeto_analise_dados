{
 "cells": [
  {
   "cell_type": "markdown",
   "metadata": {},
   "source": [
    "Análise de Dados - Cursos plataforma de ensino online\n",
    "A análise de dados é uma ferramenta essencial para impulsionar os negócios de uma empresa, e consequentemente, agregar valor.\n",
    "\n",
    "Um dos profissionais necessários para a geração de valor para empresas, é o cientista/analista de dados. Este profissional é capaz de retirar insights de diversas fontes de dados.\n",
    "\n",
    "Dito tudo isso, você, como cientista/analista de dados recebeu a missão de analisar dados de uma empresa ensino online de tecnologia. Seu principal objetivo, é através dos dados (disponibilizados na pasta compartilhada deste módulo), é o de responder algumas perguntas de negócios para auxiliar a empresa a aprimorar os seus serviços e produtos.\n",
    "\n",
    "Detalhes da base de dados podem ser vistos na plataforma Kaggle pelo link\n",
    "\n",
    "Para isso, use os conhecimentos obtidos neste módulo (e anteriores) para responder as seguintes questões:\n",
    "\n",
    "Dicas:\n",
    "\n",
    "Serão três diferentes bases de dados disponibilizadas na pasta do módulo, separadas por assunto (curso). Porém, todas elas contêm o mesmo cabeçalho. Logo, para que consiga responder as perguntas abaixo, unifique-as em um único DataFrame do pandas, e realize as análises.\n",
    "Não é necessário criar gráficos/visualizações para apresentar os resultados de cada pergunta. Porém, se você estiver confortável para criá-los quando necessário, fique à vontade."
   ]
  },
  {
   "cell_type": "code",
   "execution_count": 2,
   "metadata": {},
   "outputs": [
    {
     "data": {
      "text/html": [
       "<div>\n",
       "<style scoped>\n",
       "    .dataframe tbody tr th:only-of-type {\n",
       "        vertical-align: middle;\n",
       "    }\n",
       "\n",
       "    .dataframe tbody tr th {\n",
       "        vertical-align: top;\n",
       "    }\n",
       "\n",
       "    .dataframe thead th {\n",
       "        text-align: right;\n",
       "    }\n",
       "</style>\n",
       "<table border=\"1\" class=\"dataframe\">\n",
       "  <thead>\n",
       "    <tr style=\"text-align: right;\">\n",
       "      <th></th>\n",
       "      <th>course_id</th>\n",
       "      <th>course_title</th>\n",
       "      <th>url</th>\n",
       "      <th>price</th>\n",
       "      <th>num_subscribers</th>\n",
       "      <th>num_reviews</th>\n",
       "      <th>num_lectures</th>\n",
       "      <th>level</th>\n",
       "      <th>Rating</th>\n",
       "      <th>content_duration</th>\n",
       "      <th>published_timestamp</th>\n",
       "      <th>subject</th>\n",
       "    </tr>\n",
       "  </thead>\n",
       "  <tbody>\n",
       "    <tr>\n",
       "      <th>0</th>\n",
       "      <td>49798.0</td>\n",
       "      <td>Bitcoin or How I Learned to Stop Worrying and ...</td>\n",
       "      <td>https://www.udemy.com/bitcoin-or-how-i-learned...</td>\n",
       "      <td>0.0</td>\n",
       "      <td>65576.0</td>\n",
       "      <td>936.0</td>\n",
       "      <td>24.0</td>\n",
       "      <td>All Levels</td>\n",
       "      <td>0.56</td>\n",
       "      <td>8.0</td>\n",
       "      <td>2013-04-20T02:25:22Z</td>\n",
       "      <td>Business Finance</td>\n",
       "    </tr>\n",
       "    <tr>\n",
       "      <th>1</th>\n",
       "      <td>48841.0</td>\n",
       "      <td>Accounting in 60 Minutes - A Brief Introduction</td>\n",
       "      <td>https://www.udemy.com/accounting-in-60-minutes...</td>\n",
       "      <td>0.0</td>\n",
       "      <td>56659.0</td>\n",
       "      <td>4397.0</td>\n",
       "      <td>16.0</td>\n",
       "      <td>Beginner Level</td>\n",
       "      <td>0.95</td>\n",
       "      <td>1.5</td>\n",
       "      <td>2013-04-07T21:39:25Z</td>\n",
       "      <td>Business Finance</td>\n",
       "    </tr>\n",
       "    <tr>\n",
       "      <th>2</th>\n",
       "      <td>133536.0</td>\n",
       "      <td>Stock Market Investing for Beginners</td>\n",
       "      <td>https://www.udemy.com/the-beginners-guide-to-t...</td>\n",
       "      <td>0.0</td>\n",
       "      <td>50855.0</td>\n",
       "      <td>2698.0</td>\n",
       "      <td>15.0</td>\n",
       "      <td>All Levels</td>\n",
       "      <td>0.91</td>\n",
       "      <td>1.5</td>\n",
       "      <td>2013-12-25T19:53:34Z</td>\n",
       "      <td>Business Finance</td>\n",
       "    </tr>\n",
       "    <tr>\n",
       "      <th>3</th>\n",
       "      <td>151668.0</td>\n",
       "      <td>Introduction to Financial Modeling</td>\n",
       "      <td>https://www.udemy.com/financial-modeling-asimp...</td>\n",
       "      <td>0.0</td>\n",
       "      <td>29167.0</td>\n",
       "      <td>1463.0</td>\n",
       "      <td>8.0</td>\n",
       "      <td>All Levels</td>\n",
       "      <td>0.18</td>\n",
       "      <td>1.5</td>\n",
       "      <td>2014-05-27T16:22:16Z</td>\n",
       "      <td>Business Finance</td>\n",
       "    </tr>\n",
       "    <tr>\n",
       "      <th>4</th>\n",
       "      <td>648826.0</td>\n",
       "      <td>The Complete Financial Analyst Course 2017</td>\n",
       "      <td>https://www.udemy.com/the-complete-financial-a...</td>\n",
       "      <td>195.0</td>\n",
       "      <td>24481.0</td>\n",
       "      <td>2347.0</td>\n",
       "      <td>174.0</td>\n",
       "      <td>All Levels</td>\n",
       "      <td>0.37</td>\n",
       "      <td>10.0</td>\n",
       "      <td>2016-01-21T01:38:48Z</td>\n",
       "      <td>Business Finance</td>\n",
       "    </tr>\n",
       "    <tr>\n",
       "      <th>...</th>\n",
       "      <td>...</td>\n",
       "      <td>...</td>\n",
       "      <td>...</td>\n",
       "      <td>...</td>\n",
       "      <td>...</td>\n",
       "      <td>...</td>\n",
       "      <td>...</td>\n",
       "      <td>...</td>\n",
       "      <td>...</td>\n",
       "      <td>...</td>\n",
       "      <td>...</td>\n",
       "      <td>...</td>\n",
       "    </tr>\n",
       "    <tr>\n",
       "      <th>1200</th>\n",
       "      <td>1227578.0</td>\n",
       "      <td>Learning Path: The Road to Elasticsearch</td>\n",
       "      <td>https://www.udemy.com/learning-path-the-road-t...</td>\n",
       "      <td>200.0</td>\n",
       "      <td>50.0</td>\n",
       "      <td>5.0</td>\n",
       "      <td>60.0</td>\n",
       "      <td>Beginner Level</td>\n",
       "      <td>0.96</td>\n",
       "      <td>5.0</td>\n",
       "      <td>2017-05-29T17:56:24Z</td>\n",
       "      <td>Subject: Web Development</td>\n",
       "    </tr>\n",
       "    <tr>\n",
       "      <th>1201</th>\n",
       "      <td>1277924.0</td>\n",
       "      <td>Angular 4 Front To Back</td>\n",
       "      <td>https://www.udemy.com/angular-4-front-to-back/</td>\n",
       "      <td>40.0</td>\n",
       "      <td>44.0</td>\n",
       "      <td>0.0</td>\n",
       "      <td>68.0</td>\n",
       "      <td>All Levels</td>\n",
       "      <td>0.15</td>\n",
       "      <td>8.5</td>\n",
       "      <td>2017-07-06T15:04:55Z</td>\n",
       "      <td>Subject: Web Development</td>\n",
       "    </tr>\n",
       "    <tr>\n",
       "      <th>1202</th>\n",
       "      <td>1248172.0</td>\n",
       "      <td>Essentials of Spring 5.0 for Developers</td>\n",
       "      <td>https://www.udemy.com/essentials-of-spring-50-...</td>\n",
       "      <td>125.0</td>\n",
       "      <td>34.0</td>\n",
       "      <td>2.0</td>\n",
       "      <td>21.0</td>\n",
       "      <td>Beginner Level</td>\n",
       "      <td>0.46</td>\n",
       "      <td>1.5</td>\n",
       "      <td>2017-06-11T18:34:40Z</td>\n",
       "      <td>Subject: Web Development</td>\n",
       "    </tr>\n",
       "    <tr>\n",
       "      <th>1203</th>\n",
       "      <td>1250934.0</td>\n",
       "      <td>Display and analyze GIS data on the web with L...</td>\n",
       "      <td>https://www.udemy.com/display-and-analyze-gis-...</td>\n",
       "      <td>100.0</td>\n",
       "      <td>25.0</td>\n",
       "      <td>4.0</td>\n",
       "      <td>66.0</td>\n",
       "      <td>Beginner Level</td>\n",
       "      <td>0.67</td>\n",
       "      <td>12.5</td>\n",
       "      <td>2017-06-15T21:17:43Z</td>\n",
       "      <td>Subject: Web Development</td>\n",
       "    </tr>\n",
       "    <tr>\n",
       "      <th>1204</th>\n",
       "      <td>1270222.0</td>\n",
       "      <td>Learning Path: Web Applications with Spring an...</td>\n",
       "      <td>https://www.udemy.com/learning-path-web-applic...</td>\n",
       "      <td>200.0</td>\n",
       "      <td>19.0</td>\n",
       "      <td>2.0</td>\n",
       "      <td>33.0</td>\n",
       "      <td>Beginner Level</td>\n",
       "      <td>0.12</td>\n",
       "      <td>4.0</td>\n",
       "      <td>2017-06-28T21:04:21Z</td>\n",
       "      <td>Subject: Web Development</td>\n",
       "    </tr>\n",
       "  </tbody>\n",
       "</table>\n",
       "<p>3681 rows × 12 columns</p>\n",
       "</div>"
      ],
      "text/plain": [
       "      course_id                                       course_title  \\\n",
       "0       49798.0  Bitcoin or How I Learned to Stop Worrying and ...   \n",
       "1       48841.0    Accounting in 60 Minutes - A Brief Introduction   \n",
       "2      133536.0               Stock Market Investing for Beginners   \n",
       "3      151668.0                 Introduction to Financial Modeling   \n",
       "4      648826.0         The Complete Financial Analyst Course 2017   \n",
       "...         ...                                                ...   \n",
       "1200  1227578.0           Learning Path: The Road to Elasticsearch   \n",
       "1201  1277924.0                            Angular 4 Front To Back   \n",
       "1202  1248172.0            Essentials of Spring 5.0 for Developers   \n",
       "1203  1250934.0  Display and analyze GIS data on the web with L...   \n",
       "1204  1270222.0  Learning Path: Web Applications with Spring an...   \n",
       "\n",
       "                                                    url  price  \\\n",
       "0     https://www.udemy.com/bitcoin-or-how-i-learned...    0.0   \n",
       "1     https://www.udemy.com/accounting-in-60-minutes...    0.0   \n",
       "2     https://www.udemy.com/the-beginners-guide-to-t...    0.0   \n",
       "3     https://www.udemy.com/financial-modeling-asimp...    0.0   \n",
       "4     https://www.udemy.com/the-complete-financial-a...  195.0   \n",
       "...                                                 ...    ...   \n",
       "1200  https://www.udemy.com/learning-path-the-road-t...  200.0   \n",
       "1201     https://www.udemy.com/angular-4-front-to-back/   40.0   \n",
       "1202  https://www.udemy.com/essentials-of-spring-50-...  125.0   \n",
       "1203  https://www.udemy.com/display-and-analyze-gis-...  100.0   \n",
       "1204  https://www.udemy.com/learning-path-web-applic...  200.0   \n",
       "\n",
       "      num_subscribers  num_reviews  num_lectures           level  Rating  \\\n",
       "0             65576.0        936.0          24.0      All Levels    0.56   \n",
       "1             56659.0       4397.0          16.0  Beginner Level    0.95   \n",
       "2             50855.0       2698.0          15.0      All Levels    0.91   \n",
       "3             29167.0       1463.0           8.0      All Levels    0.18   \n",
       "4             24481.0       2347.0         174.0      All Levels    0.37   \n",
       "...               ...          ...           ...             ...     ...   \n",
       "1200             50.0          5.0          60.0  Beginner Level    0.96   \n",
       "1201             44.0          0.0          68.0      All Levels    0.15   \n",
       "1202             34.0          2.0          21.0  Beginner Level    0.46   \n",
       "1203             25.0          4.0          66.0  Beginner Level    0.67   \n",
       "1204             19.0          2.0          33.0  Beginner Level    0.12   \n",
       "\n",
       "      content_duration   published_timestamp                   subject  \n",
       "0                  8.0  2013-04-20T02:25:22Z          Business Finance  \n",
       "1                  1.5  2013-04-07T21:39:25Z          Business Finance  \n",
       "2                  1.5  2013-12-25T19:53:34Z          Business Finance  \n",
       "3                  1.5  2014-05-27T16:22:16Z          Business Finance  \n",
       "4                 10.0  2016-01-21T01:38:48Z          Business Finance  \n",
       "...                ...                   ...                       ...  \n",
       "1200               5.0  2017-05-29T17:56:24Z  Subject: Web Development  \n",
       "1201               8.5  2017-07-06T15:04:55Z  Subject: Web Development  \n",
       "1202               1.5  2017-06-11T18:34:40Z  Subject: Web Development  \n",
       "1203              12.5  2017-06-15T21:17:43Z  Subject: Web Development  \n",
       "1204               4.0  2017-06-28T21:04:21Z  Subject: Web Development  \n",
       "\n",
       "[3681 rows x 12 columns]"
      ]
     },
     "execution_count": 2,
     "metadata": {},
     "output_type": "execute_result"
    }
   ],
   "source": [
    "import pandas as pd\n",
    "import numpy as np\n",
    "import matplotlib.pyplot as plt\n",
    "import seaborn as sb\n",
    "\n",
    "business = pd.read_csv('udemy-business.csv')\n",
    "design = pd.read_csv('udemy-design.csv')\n",
    "music = pd.read_csv('udemy-music.csv')\n",
    "web = pd.read_csv('udemy-web.csv')\n",
    "\n",
    "geral = pd.concat([business, design, music, web])\n",
    "geral"
   ]
  },
  {
   "cell_type": "markdown",
   "metadata": {},
   "source": [
    "1. Quantos cursos estão disponíveis na plataforma?"
   ]
  },
  {
   "cell_type": "code",
   "execution_count": 21,
   "metadata": {},
   "outputs": [
    {
     "data": {
      "image/png": "[encoded data removed]",
      "text/plain": [
       "<Figure size 432x288 with 1 Axes>"
      ]
     },
     "metadata": {
      "needs_background": "light"
     },
     "output_type": "display_data"
    },
    {
     "name": "stdout",
     "output_type": "stream",
     "text": [
      "Nossa plataforma disponibiliza total de 3681 cursos\n"
     ]
    }
   ],
   "source": [
    "#calcular total de cursos e total de cursos por área\n",
    "total_cursos = len(geral['course_id'])\n",
    "cursos_business = len(business['course_id'])\n",
    "cursos_web = len(web['course_id'])\n",
    "cursos_design = len(design['course_id'])\n",
    "cursos_music = len(music['course_id'])\n",
    "#organizar os vetores para o gráfico\n",
    "cursos = ['Business', 'Web', 'Design', 'Music', 'Total de Cursos']\n",
    "qnt_cursos = [cursos_business, cursos_web, cursos_design, cursos_music, total_cursos]\n",
    "#montagem do gráfico\n",
    "plt.plot(cursos, qnt_cursos, 'ro', linestyle='--')\n",
    "plt.show()\n",
    "#resposta exata da pergunta 1\n",
    "print(f'Nossa plataforma disponibiliza total de {total_cursos} cursos')"
   ]
  },
  {
   "cell_type": "markdown",
   "metadata": {},
   "source": [
    "2. Quais e quantos são os cursos que abordam o assunto: JavaScript?"
   ]
  },
  {
   "cell_type": "code",
   "execution_count": null,
   "metadata": {},
   "outputs": [],
   "source": []
  },
  {
   "cell_type": "markdown",
   "metadata": {},
   "source": [
    "3. Qual é o preço médio (coluna *price*) dos cursos oferecidos na plataforma?"
   ]
  },
  {
   "cell_type": "code",
   "execution_count": 28,
   "metadata": {},
   "outputs": [
    {
     "data": {
      "image/png": "[encoded data removed]",
      "text/plain": [
       "<Figure size 432x288 with 1 Axes>"
      ]
     },
     "metadata": {
      "needs_background": "light"
     },
     "output_type": "display_data"
    },
    {
     "name": "stdout",
     "output_type": "stream",
     "text": [
      "Nossos cursos tem preço médio de R$price    66.12\n",
      "dtype: float64\n"
     ]
    }
   ],
   "source": [
    "preço_cursos = np.round(geral[['price']].mean(), 2)\n",
    "preço_business = np.round(business[['price']].mean(), 2)\n",
    "preço_web = np.round(web[['price']].mean(), 2)\n",
    "preço_design = np.round(design[['price']].mean(), 2)\n",
    "preço_music = np.round(music[['price']].mean(), 2)\n",
    "\n",
    "preços = ['Business', 'Web', 'Design', 'Music', 'Preço Médio']\n",
    "preços_cursos = [preço_business, preço_web, preço_design, preço_music, preço_cursos]\n",
    "\n",
    "plt.plot(preços, preços_cursos, 'bo', linestyle='solid')\n",
    "plt.show()\n",
    "\n",
    "preço_medio = preço_cursos\n",
    "print(f'Nossos cursos tem preço médio de R${preço_medio}')"
   ]
  },
  {
   "cell_type": "markdown",
   "metadata": {},
   "source": [
    "4. Quais são os cinco cursos com maior número de inscritos (coluna *num_subscribers*)?"
   ]
  },
  {
   "cell_type": "code",
   "execution_count": 47,
   "metadata": {},
   "outputs": [
    {
     "name": "stderr",
     "output_type": "stream",
     "text": [
      "C:\\Users\\Mirella\\AppData\\Local\\Temp\\ipykernel_4720\\1172112197.py:17: UserWarning: color is redundantly defined by the 'color' keyword argument and the fmt string \"ro\" (-> color='r'). The keyword argument will take precedence.\n",
      "  plt.plot(inscritos, cursos, 'ro', linestyle = '--', color = 'orange')\n"
     ]
    },
    {
     "data": {
      "image/png": "[encoded data removed]",
      "text/plain": [
       "<Figure size 432x288 with 1 Axes>"
      ]
     },
     "metadata": {
      "needs_background": "light"
     },
     "output_type": "display_data"
    }
   ],
   "source": [
    "num_inscritos = geral.sort_values(by='num_subscribers', ascending=False).reset_index()\n",
    "num_inscritos.head()\n",
    "curso1 = num_inscritos['course_title'][0]\n",
    "curso2 = num_inscritos['course_title'][1]\n",
    "curso3 = num_inscritos['course_title'][2]\n",
    "curso4 = num_inscritos['course_title'][3]\n",
    "curso5 = num_inscritos['course_title'][4]\n",
    "maior1 = num_inscritos['num_subscribers'][0]\n",
    "maior2 = num_inscritos['num_subscribers'][1]\n",
    "maior3 = num_inscritos['num_subscribers'][2]\n",
    "maior4 = num_inscritos['num_subscribers'][3]\n",
    "maior5 = num_inscritos['num_subscribers'][4]\n",
    "\n",
    "cursos = [curso5, curso4, curso3, curso2, curso1]\n",
    "inscritos = [maior5, maior4, maior3, maior2, maior1]\n",
    "\n",
    "plt.plot(inscritos, cursos, 'ro', linestyle = '--', color = 'orange')\n",
    "plt.show()"
   ]
  },
  {
   "cell_type": "markdown",
   "metadata": {},
   "source": [
    "5. Dos cinco cursos mais populares em termos de inscritos, mostre o **rate médio**, **máximo** e **mínimo** de cada um deles."
   ]
  },
  {
   "cell_type": "code",
   "execution_count": 62,
   "metadata": {},
   "outputs": [
    {
     "data": {
      "image/png": "[encoded data removed]",
      "text/plain": [
       "<Figure size 432x288 with 1 Axes>"
      ]
     },
     "metadata": {
      "needs_background": "light"
     },
     "output_type": "display_data"
    }
   ],
   "source": [
    "rate_max = num_inscritos['Rating'].max()\n",
    "rate_min = num_inscritos['Rating'].min()\n",
    "rate_medio = np.round(num_inscritos['Rating'].mean(), 3)\n",
    "\n",
    "rate = ['Avaliação (média)', 'Avaliação (min)', 'Avaliação (max)']\n",
    "valores_rate = [rate_medio, rate_min, rate_max]\n",
    "\n",
    "plt.plot(valores_rate, rate, 'ro')\n",
    "plt.show()"
   ]
  },
  {
   "cell_type": "markdown",
   "metadata": {},
   "source": [
    "6. Apresente os dez cursos mais visualizados na plataforma."
   ]
  },
  {
   "cell_type": "code",
   "execution_count": null,
   "metadata": {},
   "outputs": [],
   "source": []
  },
  {
   "cell_type": "markdown",
   "metadata": {},
   "source": [
    "7. A partir dos dez cursos mais vistos, mostre:\n",
    "1) qual tem o maior número de inscritos;\n",
    "2) qual tem o maior **rate** (avaliação do curso)."
   ]
  },
  {
   "cell_type": "code",
   "execution_count": 6,
   "metadata": {},
   "outputs": [],
   "source": [
    "#1) qual tem o maior número de inscritos;"
   ]
  },
  {
   "cell_type": "code",
   "execution_count": 7,
   "metadata": {},
   "outputs": [],
   "source": [
    "#2) qual tem o maior **rate** (avaliação do curso)."
   ]
  },
  {
   "cell_type": "markdown",
   "metadata": {},
   "source": [
    "8. Dos cursos listados na base de dados, qual tem maior duração em horas?"
   ]
  },
  {
   "cell_type": "code",
   "execution_count": 94,
   "metadata": {},
   "outputs": [
    {
     "data": {
      "image/png": "[encoded data removed]",
      "text/plain": [
       "<Figure size 432x288 with 1 Axes>"
      ]
     },
     "metadata": {
      "needs_background": "light"
     },
     "output_type": "display_data"
    }
   ],
   "source": [
    "duracao = geral.sort_values(by='content_duration', ascending=False).reset_index()\n",
    "curso_maior = duracao['course_title'][0]\n",
    "maior_tempo = duracao['content_duration'][0]\n",
    "tempo_medio = duracao['content_duration'].mean()\n",
    "\n",
    "curso = [curso_maior, 'Duração Média']\n",
    "valores = [maior_tempo, tempo_medio]\n",
    "\n",
    "plt.bar(curso, valores, color = 'orange')\n",
    "plt.show()"
   ]
  },
  {
   "cell_type": "markdown",
   "metadata": {},
   "source": [
    "9. Dos cursos listados na base de dados, qual tem o maior número de aulas (*lectures*)?"
   ]
  },
  {
   "cell_type": "code",
   "execution_count": 9,
   "metadata": {},
   "outputs": [
    {
     "data": {
      "image/png": "[encoded data removed]",
      "text/plain": [
       "<Figure size 432x288 with 1 Axes>"
      ]
     },
     "metadata": {
      "needs_background": "light"
     },
     "output_type": "display_data"
    },
    {
     "name": "stdout",
     "output_type": "stream",
     "text": [
      "Nosso curso com maior número de aulas é o\n",
      "\"Back to School Web Development and Programming\"\n",
      "com 779.0 aulas.\n"
     ]
    }
   ],
   "source": [
    "media_num_aulas = geral['num_lectures'].mean()\n",
    "maior_num_aulas = geral['num_lectures'].max()\n",
    "curso_maior_num_aulas = geral[geral['num_lectures'] == maior_num_aulas]\n",
    "media_num_aulas\n",
    "curso_maior_num_aulas\n",
    "\n",
    "aulas = ['Média de número de aulas', 'Back to School Web Development and Programming']\n",
    "qnt_aulas = [media_num_aulas, maior_num_aulas]\n",
    "\n",
    "plt.plot(aulas, qnt_aulas)\n",
    "plt.show()\n",
    "\n",
    "print(f'''Nosso curso com maior número de aulas é o\n",
    "\"Back to School Web Development and Programming\"\n",
    "com {maior_num_aulas} aulas.''')"
   ]
  },
  {
   "cell_type": "markdown",
   "metadata": {},
   "source": [
    "10. Apresente o número (contagem) de cursos agrupados por nível (coluna *level*)."
   ]
  },
  {
   "cell_type": "code",
   "execution_count": 10,
   "metadata": {},
   "outputs": [
    {
     "data": {
      "image/png": "[encoded data removed]",
      "text/plain": [
       "<Figure size 432x288 with 1 Axes>"
      ]
     },
     "metadata": {
      "needs_background": "light"
     },
     "output_type": "display_data"
    },
    {
     "name": "stdout",
     "output_type": "stream",
     "text": [
      "Possuímos 4 níveis de cursos:\n",
      "- Iniciante, com 1271 cursos;\n",
      "- Intermediário, com 422 cursos;\n",
      "- Avançado, com 58 cursos;\n",
      "- Para todos, com 1925 cursos;\n",
      "Totalizando 3681 cursos\n"
     ]
    }
   ],
   "source": [
    "agrupamento = geral.groupby(by='level').count().reset_index()\n",
    "agrupamento\n",
    "\n",
    "niveis = ['Todos os Níveis', 'Iniciante', 'Intermediário', 'Avançado']\n",
    "valores = [1925, 1271, 422, 58]\n",
    "\n",
    "plt.plot(niveis, valores)\n",
    "plt.show()\n",
    "\n",
    "print(f'''Possuímos 4 níveis de cursos:\n",
    "- Iniciante, com 1271 cursos;\n",
    "- Intermediário, com 422 cursos;\n",
    "- Avançado, com 58 cursos;\n",
    "- Para todos, com 1925 cursos;\n",
    "Totalizando 3681 cursos''')"
   ]
  },
  {
   "cell_type": "markdown",
   "metadata": {},
   "source": [
    "11. Quais são os cursos mais recentes contidos na base de dados?"
   ]
  },
  {
   "cell_type": "code",
   "execution_count": null,
   "metadata": {},
   "outputs": [],
   "source": []
  },
  {
   "cell_type": "markdown",
   "metadata": {},
   "source": [
    "12. Apresente o número (contagem) de cursos agrupados por nível (coluna *level*) e por assunto (coluna *subject*).\n"
   ]
  },
  {
   "cell_type": "code",
   "execution_count": null,
   "metadata": {},
   "outputs": [],
   "source": []
  },
  {
   "cell_type": "markdown",
   "metadata": {},
   "source": [
    "13. Disponibilize suas análises em um repositório do Github e compartilhe o link abaixo."
   ]
  },
  {
   "cell_type": "markdown",
   "metadata": {},
   "source": [
    "https://github.com/YuriCatundaGondim/projeto_analise_dados"
   ]
  },
  {
   "cell_type": "markdown",
   "metadata": {},
   "source": [
    "14. Crie uma conta no <a href=\"https://www.kaggle.com/datasets/thedevastator/udemy-courses-revenue-generation-and-course-anal\">Kaggle</a> e crie um Notebook com as análises feitas neste projeto. A ideia aqui, é que você comece a criar um portfólio de análise de dados na plataforma :)"
   ]
  }
 ],
 "metadata": {
  "kernelspec": {
   "display_name": "Python 3.10.5 64-bit",
   "language": "python",
   "name": "python3"
  },
  "language_info": {
   "codemirror_mode": {
    "name": "ipython",
    "version": 3
   },
   "file_extension": ".py",
   "mimetype": "text/x-python",
   "name": "python",
   "nbconvert_exporter": "python",
   "pygments_lexer": "ipython3",
   "version": "3.10.5"
  },
  "orig_nbformat": 4,
  "vscode": {
   "interpreter": {
    "hash": "ad9e475f728fbb7d35c8048c9e882298a1166193b4626fa68c86a42465c655a1"
   }
  }
 },
 "nbformat": 4,
 "nbformat_minor": 2
}

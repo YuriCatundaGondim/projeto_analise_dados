{
 "cells": [
  {
   "cell_type": "markdown",
   "metadata": {},
   "source": [
    "Análise de Dados - Cursos plataforma de ensino online\n",
    "A análise de dados é uma ferramenta essencial para impulsionar os negócios de uma empresa, e consequentemente, agregar valor.\n",
    "\n",
    "Um dos profissionais necessários para a geração de valor para empresas, é o cientista/analista de dados. Este profissional é capaz de retirar insights de diversas fontes de dados.\n",
    "\n",
    "Dito tudo isso, você, como cientista/analista de dados recebeu a missão de analisar dados de uma empresa ensino online de tecnologia. Seu principal objetivo, é através dos dados (disponibilizados na pasta compartilhada deste módulo), é o de responder algumas perguntas de negócios para auxiliar a empresa a aprimorar os seus serviços e produtos.\n",
    "\n",
    "Detalhes da base de dados podem ser vistos na plataforma Kaggle pelo link\n",
    "\n",
    "Para isso, use os conhecimentos obtidos neste módulo (e anteriores) para responder as seguintes questões:\n",
    "\n",
    "Dicas:\n",
    "\n",
    "Serão três diferentes bases de dados disponibilizadas na pasta do módulo, separadas por assunto (curso). Porém, todas elas contêm o mesmo cabeçalho. Logo, para que consiga responder as perguntas abaixo, unifique-as em um único DataFrame do pandas, e realize as análises.\n",
    "Não é necessário criar gráficos/visualizações para apresentar os resultados de cada pergunta. Porém, se você estiver confortável para criá-los quando necessário, fique à vontade."
   ]
  },
  {
   "cell_type": "code",
   "execution_count": 2,
   "metadata": {},
   "outputs": [],
   "source": [
    "import pandas as pd\n",
    "import numpy as np\n",
    "import matplotlib.pyplot as plt\n",
    "import seaborn as sb\n",
    "\n",
    "business = pd.read_csv('udemy-business.csv')\n",
    "design = pd.read_csv('udemy-design.csv')\n",
    "music = pd.read_csv('udemy-music.csv')\n",
    "web = pd.read_csv('udemy-web.csv')\n",
    "\n",
    "geral = pd.concat([business, design, music, web])"
   ]
  },
  {
   "cell_type": "markdown",
   "metadata": {},
   "source": [
    "1. Quantos cursos estão disponíveis na plataforma?"
   ]
  },
  {
   "cell_type": "code",
   "execution_count": 3,
   "metadata": {},
   "outputs": [
    {
     "data": {
      "image/png": "[encoded data removed]",
      "text/plain": [
       "<Figure size 432x288 with 1 Axes>"
      ]
     },
     "metadata": {
      "needs_background": "light"
     },
     "output_type": "display_data"
    },
    {
     "name": "stdout",
     "output_type": "stream",
     "text": [
      "Nossa plataforma disponibiliza total de 3673 cursos\n"
     ]
    }
   ],
   "source": [
    "total_cursos = geral['course_id'].unique()\n",
    "total_real = len(total_cursos)\n",
    "cursos_business = business['course_id'].unique()\n",
    "total_business = len(cursos_business)\n",
    "cursos_web = web['course_id'].unique()\n",
    "total_web = len(cursos_web)\n",
    "cursos_design = design['course_id'].unique()\n",
    "total_design = len(cursos_design)\n",
    "cursos_music = music['course_id'].unique()\n",
    "total_music = len(cursos_music)\n",
    "\n",
    "cursos = ['Business', 'Web', 'Design', 'Music', 'Total de Cursos']\n",
    "qnt_cursos = [total_business, total_web, total_design, total_music, total_real]\n",
    "\n",
    "plt.plot(cursos, qnt_cursos, 'ro', linestyle='--')\n",
    "plt.show()\n",
    "\n",
    "print(f'Nossa plataforma disponibiliza total de {total_real} cursos')"
   ]
  },
  {
   "cell_type": "markdown",
   "metadata": {},
   "source": [
    "2. Quais e quantos são os cursos que abordam o assunto: JavaScript?"
   ]
  },
  {
   "cell_type": "code",
   "execution_count": 4,
   "metadata": {},
   "outputs": [
    {
     "data": {
      "text/html": [
       "<div>\n",
       "<style scoped>\n",
       "    .dataframe tbody tr th:only-of-type {\n",
       "        vertical-align: middle;\n",
       "    }\n",
       "\n",
       "    .dataframe tbody tr th {\n",
       "        vertical-align: top;\n",
       "    }\n",
       "\n",
       "    .dataframe thead th {\n",
       "        text-align: right;\n",
       "    }\n",
       "</style>\n",
       "<table border=\"1\" class=\"dataframe\">\n",
       "  <thead>\n",
       "    <tr style=\"text-align: right;\">\n",
       "      <th></th>\n",
       "      <th>course_id</th>\n",
       "      <th>course_title</th>\n",
       "      <th>url</th>\n",
       "      <th>price</th>\n",
       "      <th>num_subscribers</th>\n",
       "      <th>num_reviews</th>\n",
       "      <th>num_lectures</th>\n",
       "      <th>level</th>\n",
       "      <th>Rating</th>\n",
       "      <th>content_duration</th>\n",
       "      <th>published_timestamp</th>\n",
       "      <th>subject</th>\n",
       "    </tr>\n",
       "  </thead>\n",
       "  <tbody>\n",
       "  </tbody>\n",
       "</table>\n",
       "</div>"
      ],
      "text/plain": [
       "Empty DataFrame\n",
       "Columns: [course_id, course_title, url, price, num_subscribers, num_reviews, num_lectures, level, Rating, content_duration, published_timestamp, subject]\n",
       "Index: []"
      ]
     },
     "execution_count": 4,
     "metadata": {},
     "output_type": "execute_result"
    }
   ],
   "source": [
    "geral['course_title'] = geral['course_title'].str.lower()\n",
    "geral[geral['course_title'].str.contains('Javascript', na= False)]"
   ]
  },
  {
   "cell_type": "markdown",
   "metadata": {},
   "source": [
    "3. Qual é o preço médio (coluna *price*) dos cursos oferecidos na plataforma?"
   ]
  },
  {
   "cell_type": "code",
   "execution_count": 5,
   "metadata": {},
   "outputs": [
    {
     "data": {
      "image/png": "[encoded data removed]",
      "text/plain": [
       "<Figure size 432x288 with 1 Axes>"
      ]
     },
     "metadata": {
      "needs_background": "light"
     },
     "output_type": "display_data"
    },
    {
     "name": "stdout",
     "output_type": "stream",
     "text": [
      "Nossos cursos tem preço médio de R$price    66.12\n",
      "dtype: float64\n"
     ]
    }
   ],
   "source": [
    "preço_cursos = np.round(geral[['price']].mean(), 2)\n",
    "preço_business = np.round(business[['price']].mean(), 2)\n",
    "preço_web = np.round(web[['price']].mean(), 2)\n",
    "preço_design = np.round(design[['price']].mean(), 2)\n",
    "preço_music = np.round(music[['price']].mean(), 2)\n",
    "\n",
    "preços = ['Business', 'Web', 'Design', 'Music', 'Preço Médio']\n",
    "preços_cursos = [preço_business, preço_web, preço_design, preço_music, preço_cursos]\n",
    "\n",
    "plt.plot(preços, preços_cursos, 'bo', linestyle='solid')\n",
    "plt.show()\n",
    "\n",
    "preço_medio = preço_cursos\n",
    "print(f'Nossos cursos tem preço médio de R${preço_medio}')"
   ]
  },
  {
   "cell_type": "markdown",
   "metadata": {},
   "source": [
    "4. Quais são os cinco cursos com maior número de inscritos (coluna *num_subscribers*)?"
   ]
  },
  {
   "cell_type": "code",
   "execution_count": 6,
   "metadata": {},
   "outputs": [
    {
     "name": "stderr",
     "output_type": "stream",
     "text": [
      "C:\\Users\\Mirella\\AppData\\Local\\Temp\\ipykernel_14060\\1172112197.py:17: UserWarning: color is redundantly defined by the 'color' keyword argument and the fmt string \"ro\" (-> color='r'). The keyword argument will take precedence.\n",
      "  plt.plot(inscritos, cursos, 'ro', linestyle = '--', color = 'orange')\n"
     ]
    },
    {
     "data": {
      "image/png": "[encoded data removed]",
      "text/plain": [
       "<Figure size 432x288 with 1 Axes>"
      ]
     },
     "metadata": {
      "needs_background": "light"
     },
     "output_type": "display_data"
    }
   ],
   "source": [
    "num_inscritos = geral.sort_values(by='num_subscribers', ascending=False).reset_index()\n",
    "num_inscritos.head()\n",
    "curso1 = num_inscritos['course_title'][0]\n",
    "curso2 = num_inscritos['course_title'][1]\n",
    "curso3 = num_inscritos['course_title'][2]\n",
    "curso4 = num_inscritos['course_title'][3]\n",
    "curso5 = num_inscritos['course_title'][4]\n",
    "maior1 = num_inscritos['num_subscribers'][0]\n",
    "maior2 = num_inscritos['num_subscribers'][1]\n",
    "maior3 = num_inscritos['num_subscribers'][2]\n",
    "maior4 = num_inscritos['num_subscribers'][3]\n",
    "maior5 = num_inscritos['num_subscribers'][4]\n",
    "\n",
    "cursos = [curso5, curso4, curso3, curso2, curso1]\n",
    "inscritos = [maior5, maior4, maior3, maior2, maior1]\n",
    "\n",
    "plt.plot(inscritos, cursos, 'ro', linestyle = '--', color = 'orange')\n",
    "plt.show()"
   ]
  },
  {
   "cell_type": "markdown",
   "metadata": {},
   "source": [
    "5. Dos cinco cursos mais populares em termos de inscritos, mostre o **rate médio**, **máximo** e **mínimo** de cada um deles."
   ]
  },
  {
   "cell_type": "code",
   "execution_count": 7,
   "metadata": {},
   "outputs": [
    {
     "data": {
      "image/png": "[encoded data removed]",
      "text/plain": [
       "<Figure size 432x288 with 1 Axes>"
      ]
     },
     "metadata": {
      "needs_background": "light"
     },
     "output_type": "display_data"
    }
   ],
   "source": [
    "rate_max = num_inscritos['Rating'].max()\n",
    "rate_min = num_inscritos['Rating'].min()\n",
    "rate_medio = np.round(num_inscritos['Rating'].mean(), 3)\n",
    "\n",
    "rate = ['Avaliação (média)', 'Avaliação (min)', 'Avaliação (max)']\n",
    "valores_rate = [rate_medio, rate_min, rate_max]\n",
    "\n",
    "plt.plot(valores_rate, rate, 'ro')\n",
    "plt.show()"
   ]
  },
  {
   "cell_type": "markdown",
   "metadata": {},
   "source": [
    "6. Apresente os dez cursos mais avaliações na plataforma."
   ]
  },
  {
   "cell_type": "code",
   "execution_count": 8,
   "metadata": {},
   "outputs": [
    {
     "data": {
      "text/html": [
       "<div>\n",
       "<style scoped>\n",
       "    .dataframe tbody tr th:only-of-type {\n",
       "        vertical-align: middle;\n",
       "    }\n",
       "\n",
       "    .dataframe tbody tr th {\n",
       "        vertical-align: top;\n",
       "    }\n",
       "\n",
       "    .dataframe thead th {\n",
       "        text-align: right;\n",
       "    }\n",
       "</style>\n",
       "<table border=\"1\" class=\"dataframe\">\n",
       "  <thead>\n",
       "    <tr style=\"text-align: right;\">\n",
       "      <th></th>\n",
       "      <th>index</th>\n",
       "      <th>course_id</th>\n",
       "      <th>course_title</th>\n",
       "      <th>url</th>\n",
       "      <th>price</th>\n",
       "      <th>num_subscribers</th>\n",
       "      <th>num_reviews</th>\n",
       "      <th>num_lectures</th>\n",
       "      <th>level</th>\n",
       "      <th>Rating</th>\n",
       "      <th>content_duration</th>\n",
       "      <th>published_timestamp</th>\n",
       "      <th>subject</th>\n",
       "    </tr>\n",
       "  </thead>\n",
       "  <tbody>\n",
       "    <tr>\n",
       "      <th>0</th>\n",
       "      <td>2</td>\n",
       "      <td>625204.0</td>\n",
       "      <td>the web developer bootcamp</td>\n",
       "      <td>https://www.udemy.com/the-web-developer-bootcamp/</td>\n",
       "      <td>200.0</td>\n",
       "      <td>121584.0</td>\n",
       "      <td>27445.0</td>\n",
       "      <td>342.0</td>\n",
       "      <td>Beginner Level</td>\n",
       "      <td>0.89</td>\n",
       "      <td>43.0</td>\n",
       "      <td>2015-11-02T21:13:27Z</td>\n",
       "      <td>Subject: Web Development</td>\n",
       "    </tr>\n",
       "    <tr>\n",
       "      <th>1</th>\n",
       "      <td>4</td>\n",
       "      <td>764164.0</td>\n",
       "      <td>the complete web developer course 2.0</td>\n",
       "      <td>https://www.udemy.com/the-complete-web-develop...</td>\n",
       "      <td>200.0</td>\n",
       "      <td>114512.0</td>\n",
       "      <td>22412.0</td>\n",
       "      <td>304.0</td>\n",
       "      <td>Beginner Level</td>\n",
       "      <td>0.55</td>\n",
       "      <td>30.5</td>\n",
       "      <td>2016-03-08T22:28:36Z</td>\n",
       "      <td>Subject: Web Development</td>\n",
       "    </tr>\n",
       "    <tr>\n",
       "      <th>2</th>\n",
       "      <td>9</td>\n",
       "      <td>756150.0</td>\n",
       "      <td>angular 4 (formerly angular 2) - the complete ...</td>\n",
       "      <td>https://www.udemy.com/the-complete-guide-to-an...</td>\n",
       "      <td>190.0</td>\n",
       "      <td>73783.0</td>\n",
       "      <td>19649.0</td>\n",
       "      <td>329.0</td>\n",
       "      <td>Beginner Level</td>\n",
       "      <td>0.90</td>\n",
       "      <td>22.0</td>\n",
       "      <td>2016-02-11T07:29:29Z</td>\n",
       "      <td>Subject: Web Development</td>\n",
       "    </tr>\n",
       "    <tr>\n",
       "      <th>3</th>\n",
       "      <td>8</td>\n",
       "      <td>364426.0</td>\n",
       "      <td>javascript: understanding the weird parts</td>\n",
       "      <td>https://www.udemy.com/understand-javascript/</td>\n",
       "      <td>175.0</td>\n",
       "      <td>79612.0</td>\n",
       "      <td>16976.0</td>\n",
       "      <td>85.0</td>\n",
       "      <td>All Levels</td>\n",
       "      <td>0.69</td>\n",
       "      <td>11.5</td>\n",
       "      <td>2015-03-12T23:19:54Z</td>\n",
       "      <td>Subject: Web Development</td>\n",
       "    </tr>\n",
       "    <tr>\n",
       "      <th>4</th>\n",
       "      <td>21</td>\n",
       "      <td>705264.0</td>\n",
       "      <td>modern react with redux</td>\n",
       "      <td>https://www.udemy.com/react-redux/</td>\n",
       "      <td>180.0</td>\n",
       "      <td>50815.0</td>\n",
       "      <td>15117.0</td>\n",
       "      <td>150.0</td>\n",
       "      <td>All Levels</td>\n",
       "      <td>0.62</td>\n",
       "      <td>26.5</td>\n",
       "      <td>2015-12-28T19:20:21Z</td>\n",
       "      <td>Subject: Web Development</td>\n",
       "    </tr>\n",
       "    <tr>\n",
       "      <th>5</th>\n",
       "      <td>16</td>\n",
       "      <td>289230.0</td>\n",
       "      <td>learn and understand angularjs</td>\n",
       "      <td>https://www.udemy.com/learn-angularjs/</td>\n",
       "      <td>175.0</td>\n",
       "      <td>59361.0</td>\n",
       "      <td>11580.0</td>\n",
       "      <td>55.0</td>\n",
       "      <td>Beginner Level</td>\n",
       "      <td>0.87</td>\n",
       "      <td>7.0</td>\n",
       "      <td>2014-09-24T00:57:25Z</td>\n",
       "      <td>Subject: Web Development</td>\n",
       "    </tr>\n",
       "    <tr>\n",
       "      <th>6</th>\n",
       "      <td>17</td>\n",
       "      <td>461160.0</td>\n",
       "      <td>learn and understand nodejs</td>\n",
       "      <td>https://www.udemy.com/understand-nodejs/</td>\n",
       "      <td>195.0</td>\n",
       "      <td>58208.0</td>\n",
       "      <td>11123.0</td>\n",
       "      <td>98.0</td>\n",
       "      <td>Beginner Level</td>\n",
       "      <td>0.73</td>\n",
       "      <td>13.0</td>\n",
       "      <td>2015-08-31T21:07:48Z</td>\n",
       "      <td>Subject: Web Development</td>\n",
       "    </tr>\n",
       "    <tr>\n",
       "      <th>7</th>\n",
       "      <td>0</td>\n",
       "      <td>41295.0</td>\n",
       "      <td>learn html5 programming from scratch</td>\n",
       "      <td>https://www.udemy.com/learn-html5-programming-...</td>\n",
       "      <td>0.0</td>\n",
       "      <td>268923.0</td>\n",
       "      <td>8629.0</td>\n",
       "      <td>45.0</td>\n",
       "      <td>Beginner Level</td>\n",
       "      <td>0.82</td>\n",
       "      <td>10.5</td>\n",
       "      <td>2013-02-14T07:03:41Z</td>\n",
       "      <td>Subject: Web Development</td>\n",
       "    </tr>\n",
       "    <tr>\n",
       "      <th>8</th>\n",
       "      <td>28</td>\n",
       "      <td>719002.0</td>\n",
       "      <td>angular 2 with typescript for beginners: the p...</td>\n",
       "      <td>https://www.udemy.com/angular-2-tutorial-for-b...</td>\n",
       "      <td>150.0</td>\n",
       "      <td>40070.0</td>\n",
       "      <td>8341.0</td>\n",
       "      <td>194.0</td>\n",
       "      <td>All Levels</td>\n",
       "      <td>0.74</td>\n",
       "      <td>9.5</td>\n",
       "      <td>2016-03-03T20:17:59Z</td>\n",
       "      <td>Subject: Web Development</td>\n",
       "    </tr>\n",
       "    <tr>\n",
       "      <th>9</th>\n",
       "      <td>1</td>\n",
       "      <td>238934.0</td>\n",
       "      <td>pianoforall - incredible new way to learn pian...</td>\n",
       "      <td>https://www.udemy.com/pianoforall-incredible-n...</td>\n",
       "      <td>200.0</td>\n",
       "      <td>75499.0</td>\n",
       "      <td>7676.0</td>\n",
       "      <td>362.0</td>\n",
       "      <td>Beginner Level</td>\n",
       "      <td>0.96</td>\n",
       "      <td>30.0</td>\n",
       "      <td>2014-08-07T06:27:51Z</td>\n",
       "      <td>Musical Instruments</td>\n",
       "    </tr>\n",
       "  </tbody>\n",
       "</table>\n",
       "</div>"
      ],
      "text/plain": [
       "   index  course_id                                       course_title  \\\n",
       "0      2   625204.0                         the web developer bootcamp   \n",
       "1      4   764164.0              the complete web developer course 2.0   \n",
       "2      9   756150.0  angular 4 (formerly angular 2) - the complete ...   \n",
       "3      8   364426.0          javascript: understanding the weird parts   \n",
       "4     21   705264.0                            modern react with redux   \n",
       "5     16   289230.0                     learn and understand angularjs   \n",
       "6     17   461160.0                        learn and understand nodejs   \n",
       "7      0    41295.0               learn html5 programming from scratch   \n",
       "8     28   719002.0  angular 2 with typescript for beginners: the p...   \n",
       "9      1   238934.0  pianoforall - incredible new way to learn pian...   \n",
       "\n",
       "                                                 url  price  num_subscribers  \\\n",
       "0  https://www.udemy.com/the-web-developer-bootcamp/  200.0         121584.0   \n",
       "1  https://www.udemy.com/the-complete-web-develop...  200.0         114512.0   \n",
       "2  https://www.udemy.com/the-complete-guide-to-an...  190.0          73783.0   \n",
       "3       https://www.udemy.com/understand-javascript/  175.0          79612.0   \n",
       "4                 https://www.udemy.com/react-redux/  180.0          50815.0   \n",
       "5             https://www.udemy.com/learn-angularjs/  175.0          59361.0   \n",
       "6           https://www.udemy.com/understand-nodejs/  195.0          58208.0   \n",
       "7  https://www.udemy.com/learn-html5-programming-...    0.0         268923.0   \n",
       "8  https://www.udemy.com/angular-2-tutorial-for-b...  150.0          40070.0   \n",
       "9  https://www.udemy.com/pianoforall-incredible-n...  200.0          75499.0   \n",
       "\n",
       "   num_reviews  num_lectures           level  Rating  content_duration  \\\n",
       "0      27445.0         342.0  Beginner Level    0.89              43.0   \n",
       "1      22412.0         304.0  Beginner Level    0.55              30.5   \n",
       "2      19649.0         329.0  Beginner Level    0.90              22.0   \n",
       "3      16976.0          85.0      All Levels    0.69              11.5   \n",
       "4      15117.0         150.0      All Levels    0.62              26.5   \n",
       "5      11580.0          55.0  Beginner Level    0.87               7.0   \n",
       "6      11123.0          98.0  Beginner Level    0.73              13.0   \n",
       "7       8629.0          45.0  Beginner Level    0.82              10.5   \n",
       "8       8341.0         194.0      All Levels    0.74               9.5   \n",
       "9       7676.0         362.0  Beginner Level    0.96              30.0   \n",
       "\n",
       "    published_timestamp                   subject  \n",
       "0  2015-11-02T21:13:27Z  Subject: Web Development  \n",
       "1  2016-03-08T22:28:36Z  Subject: Web Development  \n",
       "2  2016-02-11T07:29:29Z  Subject: Web Development  \n",
       "3  2015-03-12T23:19:54Z  Subject: Web Development  \n",
       "4  2015-12-28T19:20:21Z  Subject: Web Development  \n",
       "5  2014-09-24T00:57:25Z  Subject: Web Development  \n",
       "6  2015-08-31T21:07:48Z  Subject: Web Development  \n",
       "7  2013-02-14T07:03:41Z  Subject: Web Development  \n",
       "8  2016-03-03T20:17:59Z  Subject: Web Development  \n",
       "9  2014-08-07T06:27:51Z       Musical Instruments  "
      ]
     },
     "execution_count": 8,
     "metadata": {},
     "output_type": "execute_result"
    }
   ],
   "source": [
    "avaliacoes = geral.sort_values(by='num_reviews', ascending=False).reset_index().head(10)\n",
    "avaliacoes"
   ]
  },
  {
   "cell_type": "markdown",
   "metadata": {},
   "source": [
    "7. A partir dos dez cursos mais avaliações, mostre:\n",
    "1) qual tem o maior número de inscritos;\n",
    "2) qual tem o maior **rate** (avaliação do curso)."
   ]
  },
  {
   "cell_type": "code",
   "execution_count": 9,
   "metadata": {},
   "outputs": [
    {
     "name": "stdout",
     "output_type": "stream",
     "text": [
      "Nosso curso com mais inscrições, dentre os mais avaliados é ['learn html5 programming from scratch'], com 268923.0 inscritos\n"
     ]
    }
   ],
   "source": [
    "#1) qual tem o maior número de inscritos;\n",
    "inscritos = avaliacoes.sort_values(by='num_subscribers', ascending=False).reset_index()\n",
    "curso_maior = [inscritos['course_title'][0]]\n",
    "inscritos = avaliacoes['num_subscribers'].max()\n",
    "print(f'Nosso curso com mais inscrições, dentre os mais avaliados é {curso_maior}, com {inscritos} inscritos')"
   ]
  },
  {
   "cell_type": "code",
   "execution_count": 10,
   "metadata": {},
   "outputs": [
    {
     "name": "stdout",
     "output_type": "stream",
     "text": [
      "Nosso curso com melhor avaliação, dentre os mais avaliados é ['pianoforall - incredible new way to learn piano & keyboard'], com 0.96 de pontos\n"
     ]
    }
   ],
   "source": [
    "#2) qual tem o maior **rate** (avaliação do curso).\n",
    "rate = avaliacoes.sort_values(by='Rating', ascending=False).reset_index()\n",
    "rate_maior = [rate['course_title'][0]]\n",
    "rate = avaliacoes['Rating'].max()\n",
    "print(f'Nosso curso com melhor avaliação, dentre os mais avaliados é {rate_maior}, com {rate} de pontos')"
   ]
  },
  {
   "cell_type": "markdown",
   "metadata": {},
   "source": [
    "8. Dos cursos listados na base de dados, qual tem maior duração em horas?"
   ]
  },
  {
   "cell_type": "code",
   "execution_count": 11,
   "metadata": {},
   "outputs": [
    {
     "data": {
      "image/png": "[encoded data removed]",
      "text/plain": [
       "<Figure size 432x288 with 1 Axes>"
      ]
     },
     "metadata": {
      "needs_background": "light"
     },
     "output_type": "display_data"
    }
   ],
   "source": [
    "duracao = geral.sort_values(by='content_duration', ascending=False).reset_index()\n",
    "curso_maior = duracao['course_title'][0]\n",
    "maior_tempo = duracao['content_duration'][0]\n",
    "tempo_medio = duracao['content_duration'].mean()\n",
    "\n",
    "curso = [curso_maior, 'Duração Média']\n",
    "valores = [maior_tempo, tempo_medio]\n",
    "\n",
    "plt.bar(curso, valores, color = 'orange')\n",
    "plt.show()"
   ]
  },
  {
   "cell_type": "markdown",
   "metadata": {},
   "source": [
    "9. Dos cursos listados na base de dados, qual tem o maior número de aulas (*lectures*)?"
   ]
  },
  {
   "cell_type": "code",
   "execution_count": 12,
   "metadata": {},
   "outputs": [
    {
     "data": {
      "image/png": "[encoded data removed]",
      "text/plain": [
       "<Figure size 432x288 with 1 Axes>"
      ]
     },
     "metadata": {
      "needs_background": "light"
     },
     "output_type": "display_data"
    },
    {
     "name": "stdout",
     "output_type": "stream",
     "text": [
      "Nosso curso com maior número de aulas é o\n",
      "\"Back to School Web Development and Programming\"\n",
      "com 779.0 aulas.\n"
     ]
    }
   ],
   "source": [
    "media_num_aulas = geral['num_lectures'].mean()\n",
    "maior_num_aulas = geral['num_lectures'].max()\n",
    "curso_maior_num_aulas = geral[geral['num_lectures'] == maior_num_aulas]\n",
    "media_num_aulas\n",
    "curso_maior_num_aulas\n",
    "\n",
    "aulas = ['Média de número de aulas', 'Back to School Web Development and Programming']\n",
    "qnt_aulas = [media_num_aulas, maior_num_aulas]\n",
    "\n",
    "plt.plot(aulas, qnt_aulas)\n",
    "plt.show()\n",
    "\n",
    "print(f'''Nosso curso com maior número de aulas é o\n",
    "\"Back to School Web Development and Programming\"\n",
    "com {maior_num_aulas} aulas.''')"
   ]
  },
  {
   "cell_type": "markdown",
   "metadata": {},
   "source": [
    "10. Apresente o número (contagem) de cursos agrupados por nível (coluna *level*)."
   ]
  },
  {
   "cell_type": "code",
   "execution_count": 13,
   "metadata": {},
   "outputs": [
    {
     "data": {
      "image/png": "[encoded data removed]",
      "text/plain": [
       "<Figure size 432x288 with 1 Axes>"
      ]
     },
     "metadata": {
      "needs_background": "light"
     },
     "output_type": "display_data"
    },
    {
     "name": "stdout",
     "output_type": "stream",
     "text": [
      "Possuímos 4 níveis de cursos:\n",
      "- Iniciante, com 1271 cursos;\n",
      "- Intermediário, com 422 cursos;\n",
      "- Avançado, com 58 cursos;\n",
      "- Para todos, com 1925 cursos;\n",
      "Totalizando 3681 cursos\n"
     ]
    }
   ],
   "source": [
    "agrupamento = geral.groupby(by='level').count().reset_index()\n",
    "agrupamento\n",
    "\n",
    "niveis = ['Todos os Níveis', 'Iniciante', 'Intermediário', 'Avançado']\n",
    "valores = [1925, 1271, 422, 58]\n",
    "\n",
    "plt.plot(niveis, valores)\n",
    "plt.show()\n",
    "\n",
    "print(f'''Possuímos 4 níveis de cursos:\n",
    "- Iniciante, com 1271 cursos;\n",
    "- Intermediário, com 422 cursos;\n",
    "- Avançado, com 58 cursos;\n",
    "- Para todos, com 1925 cursos;\n",
    "Totalizando 3681 cursos''')"
   ]
  },
  {
   "cell_type": "markdown",
   "metadata": {},
   "source": [
    "11. Quais são os cursos mais recentes contidos na base de dados?"
   ]
  },
  {
   "cell_type": "code",
   "execution_count": 14,
   "metadata": {},
   "outputs": [
    {
     "data": {
      "text/html": [
       "<div>\n",
       "<style scoped>\n",
       "    .dataframe tbody tr th:only-of-type {\n",
       "        vertical-align: middle;\n",
       "    }\n",
       "\n",
       "    .dataframe tbody tr th {\n",
       "        vertical-align: top;\n",
       "    }\n",
       "\n",
       "    .dataframe thead th {\n",
       "        text-align: right;\n",
       "    }\n",
       "</style>\n",
       "<table border=\"1\" class=\"dataframe\">\n",
       "  <thead>\n",
       "    <tr style=\"text-align: right;\">\n",
       "      <th></th>\n",
       "      <th>index</th>\n",
       "      <th>course_id</th>\n",
       "      <th>course_title</th>\n",
       "      <th>url</th>\n",
       "      <th>price</th>\n",
       "      <th>num_subscribers</th>\n",
       "      <th>num_reviews</th>\n",
       "      <th>num_lectures</th>\n",
       "      <th>level</th>\n",
       "      <th>Rating</th>\n",
       "      <th>content_duration</th>\n",
       "      <th>published_timestamp</th>\n",
       "      <th>subject</th>\n",
       "    </tr>\n",
       "  </thead>\n",
       "  <tbody>\n",
       "    <tr>\n",
       "      <th>0</th>\n",
       "      <td>1183</td>\n",
       "      <td>1282064.0</td>\n",
       "      <td>cryptocurrency (btc &amp; eth) investment &amp; tradin...</td>\n",
       "      <td>https://www.udemy.com/cryptocurrency-btc-eth-i...</td>\n",
       "      <td>20.0</td>\n",
       "      <td>0.0</td>\n",
       "      <td>0.0</td>\n",
       "      <td>7.0</td>\n",
       "      <td>All Levels</td>\n",
       "      <td>0.95</td>\n",
       "      <td>2.500000</td>\n",
       "      <td>2017-07-06T21:46:30Z</td>\n",
       "      <td>Business Finance</td>\n",
       "    </tr>\n",
       "    <tr>\n",
       "      <th>1</th>\n",
       "      <td>1164</td>\n",
       "      <td>1187084.0</td>\n",
       "      <td>forex how traders beat the markest with little...</td>\n",
       "      <td>https://www.udemy.com/forex-how-traders-beat-t...</td>\n",
       "      <td>100.0</td>\n",
       "      <td>0.0</td>\n",
       "      <td>0.0</td>\n",
       "      <td>16.0</td>\n",
       "      <td>All Levels</td>\n",
       "      <td>0.15</td>\n",
       "      <td>1.000000</td>\n",
       "      <td>2017-07-06T21:16:13Z</td>\n",
       "      <td>Business Finance</td>\n",
       "    </tr>\n",
       "    <tr>\n",
       "      <th>2</th>\n",
       "      <td>1027</td>\n",
       "      <td>1268616.0</td>\n",
       "      <td>condor broken wing butterfly options trading c...</td>\n",
       "      <td>https://www.udemy.com/condor-broken-wing-butte...</td>\n",
       "      <td>0.0</td>\n",
       "      <td>16.0</td>\n",
       "      <td>0.0</td>\n",
       "      <td>15.0</td>\n",
       "      <td>All Levels</td>\n",
       "      <td>0.20</td>\n",
       "      <td>1.500000</td>\n",
       "      <td>2017-07-06T19:47:16Z</td>\n",
       "      <td>Business Finance</td>\n",
       "    </tr>\n",
       "    <tr>\n",
       "      <th>3</th>\n",
       "      <td>669</td>\n",
       "      <td>1265814.0</td>\n",
       "      <td>abrsm grade iii piano class - handel sonatina ...</td>\n",
       "      <td>https://www.udemy.com/abrsm-grade-iii-piano-cl...</td>\n",
       "      <td>20.0</td>\n",
       "      <td>0.0</td>\n",
       "      <td>0.0</td>\n",
       "      <td>5.0</td>\n",
       "      <td>Beginner Level</td>\n",
       "      <td>0.34</td>\n",
       "      <td>0.516667</td>\n",
       "      <td>2017-07-06T16:12:34Z</td>\n",
       "      <td>Musical Instruments</td>\n",
       "    </tr>\n",
       "    <tr>\n",
       "      <th>4</th>\n",
       "      <td>1201</td>\n",
       "      <td>1277924.0</td>\n",
       "      <td>angular 4 front to back</td>\n",
       "      <td>https://www.udemy.com/angular-4-front-to-back/</td>\n",
       "      <td>40.0</td>\n",
       "      <td>44.0</td>\n",
       "      <td>0.0</td>\n",
       "      <td>68.0</td>\n",
       "      <td>All Levels</td>\n",
       "      <td>0.15</td>\n",
       "      <td>8.500000</td>\n",
       "      <td>2017-07-06T15:04:55Z</td>\n",
       "      <td>Subject: Web Development</td>\n",
       "    </tr>\n",
       "  </tbody>\n",
       "</table>\n",
       "</div>"
      ],
      "text/plain": [
       "   index  course_id                                       course_title  \\\n",
       "0   1183  1282064.0  cryptocurrency (btc & eth) investment & tradin...   \n",
       "1   1164  1187084.0  forex how traders beat the markest with little...   \n",
       "2   1027  1268616.0  condor broken wing butterfly options trading c...   \n",
       "3    669  1265814.0  abrsm grade iii piano class - handel sonatina ...   \n",
       "4   1201  1277924.0                            angular 4 front to back   \n",
       "\n",
       "                                                 url  price  num_subscribers  \\\n",
       "0  https://www.udemy.com/cryptocurrency-btc-eth-i...   20.0              0.0   \n",
       "1  https://www.udemy.com/forex-how-traders-beat-t...  100.0              0.0   \n",
       "2  https://www.udemy.com/condor-broken-wing-butte...    0.0             16.0   \n",
       "3  https://www.udemy.com/abrsm-grade-iii-piano-cl...   20.0              0.0   \n",
       "4     https://www.udemy.com/angular-4-front-to-back/   40.0             44.0   \n",
       "\n",
       "   num_reviews  num_lectures           level  Rating  content_duration  \\\n",
       "0          0.0           7.0      All Levels    0.95          2.500000   \n",
       "1          0.0          16.0      All Levels    0.15          1.000000   \n",
       "2          0.0          15.0      All Levels    0.20          1.500000   \n",
       "3          0.0           5.0  Beginner Level    0.34          0.516667   \n",
       "4          0.0          68.0      All Levels    0.15          8.500000   \n",
       "\n",
       "    published_timestamp                   subject  \n",
       "0  2017-07-06T21:46:30Z          Business Finance  \n",
       "1  2017-07-06T21:16:13Z          Business Finance  \n",
       "2  2017-07-06T19:47:16Z          Business Finance  \n",
       "3  2017-07-06T16:12:34Z       Musical Instruments  \n",
       "4  2017-07-06T15:04:55Z  Subject: Web Development  "
      ]
     },
     "execution_count": 14,
     "metadata": {},
     "output_type": "execute_result"
    }
   ],
   "source": [
    "mais_recentes = geral.sort_values(by='published_timestamp', ascending=False).reset_index()\n",
    "mais_recentes.head()"
   ]
  },
  {
   "cell_type": "markdown",
   "metadata": {},
   "source": [
    "12. Apresente o número (contagem) de cursos agrupados por nível (coluna *level*) e por assunto (coluna *subject*).\n"
   ]
  },
  {
   "cell_type": "code",
   "execution_count": 15,
   "metadata": {},
   "outputs": [
    {
     "data": {
      "text/plain": [
       "3676"
      ]
     },
     "execution_count": 15,
     "metadata": {},
     "output_type": "execute_result"
    }
   ],
   "source": [
    "agrupar = geral.groupby(by=['level', 'subject']).count().reset_index()\n",
    "agrupar['course_id'].sum()"
   ]
  },
  {
   "cell_type": "markdown",
   "metadata": {},
   "source": [
    "13. Disponibilize suas análises em um repositório do Github e compartilhe o link abaixo."
   ]
  },
  {
   "cell_type": "markdown",
   "metadata": {},
   "source": [
    "https://github.com/YuriCatundaGondim/projeto_analise_dados"
   ]
  },
  {
   "cell_type": "markdown",
   "metadata": {},
   "source": [
    "14. Crie uma conta no <a href=\"https://www.kaggle.com/datasets/thedevastator/udemy-courses-revenue-generation-and-course-anal\">Kaggle</a> e crie um Notebook com as análises feitas neste projeto. A ideia aqui, é que você comece a criar um portfólio de análise de dados na plataforma :)"
   ]
  },
  {
   "cell_type": "markdown",
   "metadata": {},
   "source": [
    "https://www.kaggle.com/code/yurigondim/projeto-an-lise-de-dados-udemy"
   ]
  }
 ],
 "metadata": {
  "kernelspec": {
   "display_name": "Python 3.10.5 64-bit",
   "language": "python",
   "name": "python3"
  },
  "language_info": {
   "codemirror_mode": {
    "name": "ipython",
    "version": 3
   },
   "file_extension": ".py",
   "mimetype": "text/x-python",
   "name": "python",
   "nbconvert_exporter": "python",
   "pygments_lexer": "ipython3",
   "version": "3.10.5"
  },
  "orig_nbformat": 4,
  "vscode": {
   "interpreter": {
    "hash": "ad9e475f728fbb7d35c8048c9e882298a1166193b4626fa68c86a42465c655a1"
   }
  }
 },
 "nbformat": 4,
 "nbformat_minor": 2
}

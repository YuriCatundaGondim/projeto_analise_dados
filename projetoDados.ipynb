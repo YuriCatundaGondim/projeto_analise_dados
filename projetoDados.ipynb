{
 "cells": [
  {
   "cell_type": "markdown",
   "metadata": {},
   "source": [
    "Análise de Dados - Cursos plataforma de ensino online\n",
    "A análise de dados é uma ferramenta essencial para impulsionar os negócios de uma empresa, e consequentemente, agregar valor.\n",
    "\n",
    "Um dos profissionais necessários para a geração de valor para empresas, é o cientista/analista de dados. Este profissional é capaz de retirar insights de diversas fontes de dados.\n",
    "\n",
    "Dito tudo isso, você, como cientista/analista de dados recebeu a missão de analisar dados de uma empresa ensino online de tecnologia. Seu principal objetivo, é através dos dados (disponibilizados na pasta compartilhada deste módulo), é o de responder algumas perguntas de negócios para auxiliar a empresa a aprimorar os seus serviços e produtos.\n",
    "\n",
    "Detalhes da base de dados podem ser vistos na plataforma Kaggle pelo link\n",
    "\n",
    "Para isso, use os conhecimentos obtidos neste módulo (e anteriores) para responder as seguintes questões:\n",
    "\n",
    "Dicas:\n",
    "\n",
    "Serão três diferentes bases de dados disponibilizadas na pasta do módulo, separadas por assunto (curso). Porém, todas elas contêm o mesmo cabeçalho. Logo, para que consiga responder as perguntas abaixo, unifique-as em um único DataFrame do pandas, e realize as análises.\n",
    "Não é necessário criar gráficos/visualizações para apresentar os resultados de cada pergunta. Porém, se você estiver confortável para criá-los quando necessário, fique à vontade."
   ]
  },
  {
   "cell_type": "code",
   "execution_count": null,
   "metadata": {},
   "outputs": [],
   "source": [
    "import pandas as pd\n",
    "import numpy as np\n",
    "import matplotlib.pyplot as plt\n",
    "import seaborn as sb\n",
    "\n",
    "business = pd.read_csv('udemy-business.csv')\n",
    "design = pd.read_csv('udemy-design.csv')\n",
    "music = pd.read_csv('udemy-music.csv')\n",
    "web = pd.read_csv('udemy-web.csv')\n",
    "\n",
    "geral = pd.concat([business, design, music, web])\n",
    "geral"
   ]
  },
  {
   "cell_type": "markdown",
   "metadata": {},
   "source": [
    "1. Quantos cursos estão disponíveis na plataforma?"
   ]
  },
  {
   "cell_type": "code",
   "execution_count": null,
   "metadata": {},
   "outputs": [],
   "source": [
    "#calcular total de cursos e total de cursos por área\n",
    "total_cursos = len(geral['course_id'])\n",
    "cursos_business = len(business['course_id'])\n",
    "cursos_web = len(web['course_id'])\n",
    "cursos_design = len(design['course_id'])\n",
    "cursos_music = len(music['course_id'])\n",
    "#organizar os vetores para o gráfico\n",
    "cursos = ['Business', 'Web', 'Design', 'Music', 'Total de Cursos']\n",
    "qnt_cursos = [cursos_business, cursos_web, cursos_design, cursos_music, total_cursos]\n",
    "#montagem do gráfico\n",
    "plt.plot(cursos, qnt_cursos, 'ro', linestyle='--')\n",
    "plt.show()\n",
    "#resposta exata da pergunta 1\n",
    "print(f'Nossa plataforma disponibiliza total de {total_cursos} cursos')"
   ]
  },
  {
   "cell_type": "markdown",
   "metadata": {},
   "source": [
    "2. Quais e quantos são os cursos que abordam o assunto: JavaScript?"
   ]
  },
  {
   "cell_type": "code",
   "execution_count": null,
   "metadata": {},
   "outputs": [],
   "source": []
  },
  {
   "cell_type": "markdown",
   "metadata": {},
   "source": [
    "3. Qual é o preço médio (coluna *price*) dos cursos oferecidos na plataforma?"
   ]
  },
  {
   "cell_type": "code",
   "execution_count": null,
   "metadata": {},
   "outputs": [],
   "source": [
    "preço_cursos = np.round(geral[['price']].mean(), 2)\n",
    "preço_business = np.round(business[['price']].mean(), 2)\n",
    "preço_web = np.round(web[['price']].mean(), 2)\n",
    "preço_design = np.round(design[['price']].mean(), 2)\n",
    "preço_music = np.round(music[['price']].mean(), 2)\n",
    "\n",
    "preços = ['Business', 'Web', 'Design', 'Music', 'Preço Médio']\n",
    "preços_cursos = [preço_business, preço_web, preço_design, preço_music, preço_cursos]\n",
    "\n",
    "plt.plot(preços, preços_cursos, 'bo', linestyle='solid')\n",
    "plt.show()\n",
    "\n",
    "preço_medio = preço_cursos\n",
    "print(f'Nossos cursos tem preço médio de R${preço_medio}')"
   ]
  },
  {
   "cell_type": "markdown",
   "metadata": {},
   "source": [
    "4. Quais são os cinco cursos com maior número de inscritos (coluna *num_subscribers*)?"
   ]
  },
  {
   "cell_type": "code",
   "execution_count": null,
   "metadata": {},
   "outputs": [],
   "source": [
    "num_inscritos = geral.sort_values(by='num_subscribers', ascending=False).reset_index()\n",
    "num_inscritos.head()\n",
    "curso1 = num_inscritos['course_title'][0]\n",
    "curso2 = num_inscritos['course_title'][1]\n",
    "curso3 = num_inscritos['course_title'][2]\n",
    "curso4 = num_inscritos['course_title'][3]\n",
    "curso5 = num_inscritos['course_title'][4]\n",
    "maior1 = num_inscritos['num_subscribers'][0]\n",
    "maior2 = num_inscritos['num_subscribers'][1]\n",
    "maior3 = num_inscritos['num_subscribers'][2]\n",
    "maior4 = num_inscritos['num_subscribers'][3]\n",
    "maior5 = num_inscritos['num_subscribers'][4]\n",
    "\n",
    "cursos = [curso5, curso4, curso3, curso2, curso1]\n",
    "inscritos = [maior5, maior4, maior3, maior2, maior1]\n",
    "\n",
    "plt.plot(inscritos, cursos, 'ro', linestyle = '--', color = 'orange')\n",
    "plt.show()"
   ]
  },
  {
   "cell_type": "markdown",
   "metadata": {},
   "source": [
    "5. Dos cinco cursos mais populares em termos de inscritos, mostre o **rate médio**, **máximo** e **mínimo** de cada um deles."
   ]
  },
  {
   "cell_type": "code",
   "execution_count": null,
   "metadata": {},
   "outputs": [],
   "source": [
    "rate_max = num_inscritos['Rating'].max()\n",
    "rate_min = num_inscritos['Rating'].min()\n",
    "rate_medio = np.round(num_inscritos['Rating'].mean(), 3)\n",
    "\n",
    "rate = ['Avaliação (média)', 'Avaliação (min)', 'Avaliação (max)']\n",
    "valores_rate = [rate_medio, rate_min, rate_max]\n",
    "\n",
    "plt.plot(valores_rate, rate, 'ro')\n",
    "plt.show()"
   ]
  },
  {
   "cell_type": "markdown",
   "metadata": {},
   "source": [
    "6. Apresente os dez cursos mais avaliações na plataforma."
   ]
  },
  {
   "cell_type": "code",
   "execution_count": null,
   "metadata": {},
   "outputs": [],
   "source": [
    "avaliacoes = geral.sort_values(by='num_reviews', ascending=False).reset_index().head(10)\n",
    "avaliacoes"
   ]
  },
  {
   "cell_type": "markdown",
   "metadata": {},
   "source": [
    "7. A partir dos dez cursos mais avaliações, mostre:\n",
    "1) qual tem o maior número de inscritos;\n",
    "2) qual tem o maior **rate** (avaliação do curso)."
   ]
  },
  {
   "cell_type": "code",
   "execution_count": null,
   "metadata": {},
   "outputs": [],
   "source": [
    "#1) qual tem o maior número de inscritos;\n",
    "inscritos = avaliacoes.sort_values(by='num_subscribers', ascending=False).reset_index()\n",
    "curso_maior = [inscritos['course_title'][0]]\n",
    "inscritos = avaliacoes['num_subscribers'].max()\n",
    "print(f'Nosso curso com mais inscrições, dentre os mais avaliados é {curso_maior}, com {inscritos} inscritos')"
   ]
  },
  {
   "cell_type": "code",
   "execution_count": null,
   "metadata": {},
   "outputs": [],
   "source": [
    "#2) qual tem o maior **rate** (avaliação do curso).\n",
    "rate = avaliacoes.sort_values(by='Rating', ascending=False).reset_index()\n",
    "rate_maior = [rate['course_title'][0]]\n",
    "rate = avaliacoes['Rating'].max()\n",
    "print(f'Nosso curso com melhor avaliação, dentre os mais avaliados é {rate_maior}, com {rate} de pontos')"
   ]
  },
  {
   "cell_type": "markdown",
   "metadata": {},
   "source": [
    "8. Dos cursos listados na base de dados, qual tem maior duração em horas?"
   ]
  },
  {
   "cell_type": "code",
   "execution_count": null,
   "metadata": {},
   "outputs": [],
   "source": [
    "duracao = geral.sort_values(by='content_duration', ascending=False).reset_index()\n",
    "curso_maior = duracao['course_title'][0]\n",
    "maior_tempo = duracao['content_duration'][0]\n",
    "tempo_medio = duracao['content_duration'].mean()\n",
    "\n",
    "curso = [curso_maior, 'Duração Média']\n",
    "valores = [maior_tempo, tempo_medio]\n",
    "\n",
    "plt.bar(curso, valores, color = 'orange')\n",
    "plt.show()"
   ]
  },
  {
   "cell_type": "markdown",
   "metadata": {},
   "source": [
    "9. Dos cursos listados na base de dados, qual tem o maior número de aulas (*lectures*)?"
   ]
  },
  {
   "cell_type": "code",
   "execution_count": null,
   "metadata": {},
   "outputs": [],
   "source": [
    "media_num_aulas = geral['num_lectures'].mean()\n",
    "maior_num_aulas = geral['num_lectures'].max()\n",
    "curso_maior_num_aulas = geral[geral['num_lectures'] == maior_num_aulas]\n",
    "media_num_aulas\n",
    "curso_maior_num_aulas\n",
    "\n",
    "aulas = ['Média de número de aulas', 'Back to School Web Development and Programming']\n",
    "qnt_aulas = [media_num_aulas, maior_num_aulas]\n",
    "\n",
    "plt.plot(aulas, qnt_aulas)\n",
    "plt.show()\n",
    "\n",
    "print(f'''Nosso curso com maior número de aulas é o\n",
    "\"Back to School Web Development and Programming\"\n",
    "com {maior_num_aulas} aulas.''')"
   ]
  },
  {
   "cell_type": "markdown",
   "metadata": {},
   "source": [
    "10. Apresente o número (contagem) de cursos agrupados por nível (coluna *level*)."
   ]
  },
  {
   "cell_type": "code",
   "execution_count": null,
   "metadata": {},
   "outputs": [],
   "source": [
    "agrupamento = geral.groupby(by='level').count().reset_index()\n",
    "agrupamento\n",
    "\n",
    "niveis = ['Todos os Níveis', 'Iniciante', 'Intermediário', 'Avançado']\n",
    "valores = [1925, 1271, 422, 58]\n",
    "\n",
    "plt.plot(niveis, valores)\n",
    "plt.show()\n",
    "\n",
    "print(f'''Possuímos 4 níveis de cursos:\n",
    "- Iniciante, com 1271 cursos;\n",
    "- Intermediário, com 422 cursos;\n",
    "- Avançado, com 58 cursos;\n",
    "- Para todos, com 1925 cursos;\n",
    "Totalizando 3681 cursos''')"
   ]
  },
  {
   "cell_type": "markdown",
   "metadata": {},
   "source": [
    "11. Quais são os cursos mais recentes contidos na base de dados?"
   ]
  },
  {
   "cell_type": "code",
   "execution_count": null,
   "metadata": {},
   "outputs": [],
   "source": [
    "mais_recentes = geral.sort_values(by='published_timestamp', ascending=False).reset_index()\n",
    "mais_recentes.head()"
   ]
  },
  {
   "cell_type": "markdown",
   "metadata": {},
   "source": [
    "12. Apresente o número (contagem) de cursos agrupados por nível (coluna *level*) e por assunto (coluna *subject*).\n"
   ]
  },
  {
   "cell_type": "code",
   "execution_count": null,
   "metadata": {},
   "outputs": [],
   "source": [
    "agrupar = geral.groupby(by=['level', 'subject']).count().reset_index()\n",
    "agrupar['course_id'].sum()"
   ]
  },
  {
   "cell_type": "markdown",
   "metadata": {},
   "source": [
    "13. Disponibilize suas análises em um repositório do Github e compartilhe o link abaixo."
   ]
  },
  {
   "cell_type": "markdown",
   "metadata": {},
   "source": [
    "https://github.com/YuriCatundaGondim/projeto_analise_dados"
   ]
  },
  {
   "cell_type": "markdown",
   "metadata": {},
   "source": [
    "14. Crie uma conta no <a href=\"https://www.kaggle.com/datasets/thedevastator/udemy-courses-revenue-generation-and-course-anal\">Kaggle</a> e crie um Notebook com as análises feitas neste projeto. A ideia aqui, é que você comece a criar um portfólio de análise de dados na plataforma :)"
   ]
  },
  {
   "cell_type": "markdown",
   "metadata": {},
   "source": [
    "https://www.kaggle.com/code/yurigondim/projeto-an-lise-de-dados-udemy"
   ]
  }
 ],
 "metadata": {
  "kernelspec": {
   "display_name": "Python 3.10.5 64-bit",
   "language": "python",
   "name": "python3"
  },
  "language_info": {
   "codemirror_mode": {
    "name": "ipython",
    "version": 3
   },
   "file_extension": ".py",
   "mimetype": "text/x-python",
   "name": "python",
   "nbconvert_exporter": "python",
   "pygments_lexer": "ipython3",
   "version": "3.10.5"
  },
  "orig_nbformat": 4,
  "vscode": {
   "interpreter": {
    "hash": "ad9e475f728fbb7d35c8048c9e882298a1166193b4626fa68c86a42465c655a1"
   }
  }
 },
 "nbformat": 4,
 "nbformat_minor": 2
}
